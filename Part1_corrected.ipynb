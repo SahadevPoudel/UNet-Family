{
 "cells": [
  {
   "cell_type": "markdown",
   "metadata": {
    "colab_type": "text",
    "id": "CqMyXJ3JTdEK"
   },
   "source": [
    "## Prerequisites"
   ]
  },
  {
   "cell_type": "markdown",
   "metadata": {
    "colab_type": "text",
    "id": "pACMBrcdUneY"
   },
   "source": [
    "Mount Drive"
   ]
  },
  {
   "cell_type": "code",
   "execution_count": null,
   "metadata": {
    "colab": {},
    "colab_type": "code",
    "id": "dBWbdGlQu3tz"
   },
   "outputs": [],
   "source": [
    "#from google.colab import drive\n",
    "#drive.mount('/content/drive')\n",
    "\n",
    "#import os\n",
    "#os.chdir('/floyd/input/hgg')"
   ]
  },
  {
   "cell_type": "code",
   "execution_count": null,
   "metadata": {},
   "outputs": [],
   "source": [
    "!pip install tables\n",
    "!pip install nibabel\n",
    "!pip install SimpleITK"
   ]
  },
  {
   "cell_type": "markdown",
   "metadata": {
    "colab_type": "text",
    "id": "rRs-V4SATf9f"
   },
   "source": [
    "Import dependencies"
   ]
  },
  {
   "cell_type": "code",
   "execution_count": 1,
   "metadata": {
    "colab": {
     "base_uri": "https://localhost:8080/",
     "height": 80
    },
    "colab_type": "code",
    "id": "dPvUii5gTRbE",
    "outputId": "558e3230-0b83-49b4-9033-88df1171ba0d"
   },
   "outputs": [
    {
     "name": "stderr",
     "output_type": "stream",
     "text": [
      "/home/poudelas/anaconda3/envs/auto/lib/python3.6/site-packages/tensorflow/python/framework/dtypes.py:519: FutureWarning: Passing (type, 1) or '1type' as a synonym of type is deprecated; in a future version of numpy, it will be understood as (type, (1,)) / '(1,)type'.\n",
      "  _np_qint8 = np.dtype([(\"qint8\", np.int8, 1)])\n",
      "/home/poudelas/anaconda3/envs/auto/lib/python3.6/site-packages/tensorflow/python/framework/dtypes.py:520: FutureWarning: Passing (type, 1) or '1type' as a synonym of type is deprecated; in a future version of numpy, it will be understood as (type, (1,)) / '(1,)type'.\n",
      "  _np_quint8 = np.dtype([(\"quint8\", np.uint8, 1)])\n",
      "/home/poudelas/anaconda3/envs/auto/lib/python3.6/site-packages/tensorflow/python/framework/dtypes.py:521: FutureWarning: Passing (type, 1) or '1type' as a synonym of type is deprecated; in a future version of numpy, it will be understood as (type, (1,)) / '(1,)type'.\n",
      "  _np_qint16 = np.dtype([(\"qint16\", np.int16, 1)])\n",
      "/home/poudelas/anaconda3/envs/auto/lib/python3.6/site-packages/tensorflow/python/framework/dtypes.py:522: FutureWarning: Passing (type, 1) or '1type' as a synonym of type is deprecated; in a future version of numpy, it will be understood as (type, (1,)) / '(1,)type'.\n",
      "  _np_quint16 = np.dtype([(\"quint16\", np.uint16, 1)])\n",
      "/home/poudelas/anaconda3/envs/auto/lib/python3.6/site-packages/tensorflow/python/framework/dtypes.py:523: FutureWarning: Passing (type, 1) or '1type' as a synonym of type is deprecated; in a future version of numpy, it will be understood as (type, (1,)) / '(1,)type'.\n",
      "  _np_qint32 = np.dtype([(\"qint32\", np.int32, 1)])\n",
      "/home/poudelas/anaconda3/envs/auto/lib/python3.6/site-packages/tensorflow/python/framework/dtypes.py:528: FutureWarning: Passing (type, 1) or '1type' as a synonym of type is deprecated; in a future version of numpy, it will be understood as (type, (1,)) / '(1,)type'.\n",
      "  np_resource = np.dtype([(\"resource\", np.ubyte, 1)])\n",
      "Using TensorFlow backend.\n"
     ]
    }
   ],
   "source": [
    "import numpy as np\n",
    "import pandas as pd\n",
    "import random\n",
    "import os\n",
    "import tensorflow as tf\n",
    "import math\n",
    "import matplotlib.pyplot as plt\n",
    "import skimage.io as io\n",
    "import skimage.color as color\n",
    "import keras\n",
    "from keras import backend as K\n",
    "import SimpleITK as sitk\n",
    "\n",
    "####\n",
    "import tables\n",
    "import nibabel as nib\n",
    "from tqdm import tqdm\n",
    "from glob import glob\n"
   ]
  },
  {
   "cell_type": "code",
   "execution_count": 2,
   "metadata": {
    "colab": {},
    "colab_type": "code",
    "id": "r-OKbXMzQgyz"
   },
   "outputs": [],
   "source": [
    "image_size = 240      # 240 pixels by 240 pixels\n",
    "smooth = 0.01         # used in loss, changed from .005"
   ]
  },
  {
   "cell_type": "markdown",
   "metadata": {
    "colab_type": "text",
    "id": "knzI-PaPT77Q"
   },
   "source": [
    "Specify the folder where images are located."
   ]
  },
  {
   "cell_type": "code",
   "execution_count": 3,
   "metadata": {},
   "outputs": [],
   "source": [
    "keras.backend.set_image_data_format('channels_first')"
   ]
  },
  {
   "cell_type": "code",
   "execution_count": 4,
   "metadata": {},
   "outputs": [
    {
     "name": "stdout",
     "output_type": "stream",
     "text": [
      "(259, 155, 2, 240, 240)\n",
      "(259, 155, 240, 240)\n"
     ]
    }
   ],
   "source": [
    "table_dir = '/home/poudelas/Documents/TF.Keras-Commonly-used-models-master/常用分割模型/Unet_family/table_data.hdf5'\n",
    "hdf5_file = tables.open_file(table_dir, mode='r+')\n",
    "data_storage    = hdf5_file.root.data\n",
    "truth_storage   = hdf5_file.root.truth\n",
    "brain_names     = hdf5_file.root.brain_names\n",
    "\n",
    "print(data_storage.shape)\n",
    "print(truth_storage.shape)"
   ]
  },
  {
   "cell_type": "code",
   "execution_count": 5,
   "metadata": {},
   "outputs": [],
   "source": [
    "#load validation and test brains and save them as numpy (still faster than nii.gz)\n",
    "val_idx   = np.load('/home/poudelas/Documents/TF.Keras-Commonly-used-models-master/常用分割模型/Unet_family/val_idx.npy') # 27 brain indexes for validation\n",
    "test_idx  = np.load('/home/poudelas/Documents/TF.Keras-Commonly-used-models-master/常用分割模型/Unet_family/test_idx.npy') # 27 brain indexes for testing"
   ]
  },
  {
   "cell_type": "code",
   "execution_count": 6,
   "metadata": {},
   "outputs": [
    {
     "name": "stdout",
     "output_type": "stream",
     "text": [
      "HGG_BraTS19_CBICA_BGN_1\n",
      "HGG_BraTS19_TCIA01_390_1\n",
      "HGG_BraTS19_CBICA_AVV_1\n",
      "HGG_BraTS19_CBICA_BAP_1\n",
      "HGG_BraTS19_TCIA03_265_1\n",
      "HGG_BraTS19_TCIA03_121_1\n",
      "HGG_BraTS19_TCIA03_296_1\n",
      "HGG_BraTS19_TCIA04_437_1\n",
      "HGG_BraTS19_CBICA_AQY_1\n",
      "HGG_BraTS19_TCIA08_278_1\n",
      "HGG_BraTS19_CBICA_AXQ_1\n",
      "HGG_BraTS19_TCIA01_335_1\n",
      "HGG_BraTS19_TCIA02_179_1\n",
      "HGG_BraTS19_2013_26_1\n",
      "HGG_BraTS19_2013_13_1\n",
      "HGG_BraTS19_CBICA_BJY_1\n",
      "HGG_BraTS19_TCIA04_328_1\n",
      "HGG_BraTS19_TCIA03_498_1\n",
      "HGG_BraTS19_TCIA01_460_1\n",
      "HGG_BraTS19_TCIA06_211_1\n",
      "HGG_BraTS19_TCIA04_149_1\n",
      "HGG_BraTS19_TCIA08_162_1\n",
      "HGG_BraTS19_CBICA_AWV_1\n",
      "HGG_BraTS19_TCIA03_199_1\n",
      "HGG_BraTS19_CBICA_AWG_1\n",
      "HGG_BraTS19_CBICA_ANI_1\n"
     ]
    }
   ],
   "source": [
    "# We will use these numpys for validation and test generator\n",
    "validation_save_dir = '/home/poudelas/PycharmProjects/efficientnet/val_save/'\n",
    "for idx_val in val_idx:\n",
    "    #print(data_storage[idx_val].shape)\n",
    "    #print(truth_storage[idx_val].shape)                   \n",
    "    name = brain_names[idx_val].decode(\"utf-8\")\n",
    "    print(name)\n",
    "    folder = os.path.join(validation_save_dir, name)\n",
    "    if not os.path.isdir(folder):\n",
    "        os.mkdir(folder)\n",
    "    np.save( os.path.join(validation_save_dir, folder, name + '_channels') , data_storage[idx_val])\n",
    "    np.save( os.path.join(validation_save_dir, folder, name + '_label') , truth_storage[idx_val])\n",
    "   "
   ]
  },
  {
   "cell_type": "code",
   "execution_count": 7,
   "metadata": {},
   "outputs": [
    {
     "name": "stdout",
     "output_type": "stream",
     "text": [
      "HGG_BraTS19_2013_10_1\n",
      "HGG_BraTS19_TCIA05_444_1\n",
      "HGG_BraTS19_2013_22_1\n",
      "HGG_BraTS19_CBICA_AUN_1\n",
      "HGG_BraTS19_TCIA08_242_1\n",
      "HGG_BraTS19_CBICA_ASW_1\n",
      "HGG_BraTS19_TCIA03_419_1\n",
      "HGG_BraTS19_TCIA08_436_1\n",
      "HGG_BraTS19_CBICA_AYG_1\n",
      "HGG_BraTS19_2013_11_1\n",
      "HGG_BraTS19_CBICA_ABN_1\n",
      "HGG_BraTS19_CBICA_AOS_1\n",
      "HGG_BraTS19_CBICA_ASG_1\n",
      "HGG_BraTS19_TCIA06_372_1\n",
      "HGG_BraTS19_TCIA01_180_1\n",
      "HGG_BraTS19_CBICA_APY_1\n",
      "HGG_BraTS19_CBICA_AOC_1\n",
      "HGG_BraTS19_CBICA_AYA_1\n",
      "HGG_BraTS19_CBICA_BLJ_1\n",
      "HGG_BraTS19_CBICA_AQD_1\n",
      "HGG_BraTS19_TCIA01_190_1\n",
      "HGG_BraTS19_CBICA_APK_1\n",
      "HGG_BraTS19_CBICA_AOH_1\n",
      "HGG_BraTS19_CBICA_AQV_1\n",
      "HGG_BraTS19_TMC_11964_1\n",
      "HGG_BraTS19_CBICA_AUR_1\n"
     ]
    }
   ],
   "source": [
    "test_save_dir = '/home/poudelas/PycharmProjects/efficientnet/test_np/'\n",
    "for idx_test in test_idx:\n",
    "    #print(data_storage[idx_test].shape)\n",
    "    #print(truth_storage[idx_test].shape)                   \n",
    "    name = brain_names[idx_test].decode(\"utf-8\")\n",
    "    print(name)\n",
    "    folder = os.path.join(test_save_dir, name)\n",
    "    if not os.path.isdir(folder):\n",
    "        os.mkdir(folder)\n",
    "    np.save( os.path.join(test_save_dir, folder, name + '_channels') , data_storage[idx_test])\n",
    "    np.save( os.path.join(test_save_dir, folder, name + '_label') , truth_storage[idx_test])"
   ]
  },
  {
   "cell_type": "code",
   "execution_count": 8,
   "metadata": {},
   "outputs": [],
   "source": [
    "# closing the table\n",
    "hdf5_file.close()"
   ]
  },
  {
   "cell_type": "markdown",
   "metadata": {
    "colab_type": "text",
    "id": "G73ur1tVerBO"
   },
   "source": [
    "## Model Definition"
   ]
  },
  {
   "cell_type": "markdown",
   "metadata": {
    "colab_type": "text",
    "id": "kDAiqr1ClNEE"
   },
   "source": [
    "Define Dice coefficient loss for segmentation. Let s use standard versions of this."
   ]
  },
  {
   "cell_type": "code",
   "execution_count": 9,
   "metadata": {
    "colab": {},
    "colab_type": "code",
    "id": "Yvyq9Gf9lNrE"
   },
   "outputs": [],
   "source": [
    "#source: https://www.kaggle.com/c/severstal-steel-defect-detection/discussion/107182\n",
    "\n",
    "def dice_coef(y_true, y_pred):\n",
    "    y_true_f = K.flatten(y_true)\n",
    "    y_pred_f = K.flatten(y_pred)\n",
    "    intersection = K.sum(y_true_f * y_pred_f)\n",
    "    return (2. * intersection + smooth) / (K.sum(y_true_f) + K.sum(y_pred_f) + smooth)\n",
    "\n",
    "def dice_coef_loss(y_true, y_pred):\n",
    "    return 1-dice_coef(y_true, y_pred)"
   ]
  },
  {
   "cell_type": "markdown",
   "metadata": {
    "colab_type": "text",
    "id": "faJUxDpCkb6U"
   },
   "source": [
    "Define uNet model for full tumour segmentation"
   ]
  },
  {
   "cell_type": "code",
   "execution_count": 25,
   "metadata": {
    "colab": {},
    "colab_type": "code",
    "id": "MzSlHtakkynJ"
   },
   "outputs": [],
   "source": [
    "def unet_model():\n",
    "    inputs = keras.layers.Input((2, image_size, image_size)) #using 2 channels, one will be T2 and Flair later\n",
    "    \n",
    "    conv1 = keras.layers.Conv2D(64, (3, 3), activation='relu', padding='same') (inputs)\n",
    "    batch1 = keras.layers.BatchNormalization(axis=1)(conv1)\n",
    "    conv1 = keras.layers.Conv2D(64, (3, 3), activation='relu', padding='same') (batch1)\n",
    "    batch1 = keras.layers.BatchNormalization(axis=1)(conv1)\n",
    "    pool1 = keras.layers.MaxPooling2D((2, 2)) (batch1)\n",
    "    \n",
    "    conv2 = keras.layers.Conv2D(128, (3, 3), activation='relu', padding='same') (pool1)\n",
    "    batch2 = keras.layers.BatchNormalization(axis=1)(conv2)\n",
    "    conv2 = keras.layers.Conv2D(128, (3, 3), activation='relu', padding='same') (batch2)\n",
    "    batch2 = keras.layers.BatchNormalization(axis=1)(conv2)\n",
    "    pool2 = keras.layers.MaxPooling2D((2, 2)) (batch2)\n",
    "    \n",
    "    conv3 = keras.layers.Conv2D(256, (3, 3), activation='relu', padding='same') (pool2)\n",
    "    batch3 = keras.layers.BatchNormalization(axis=1)(conv3)\n",
    "    conv3 = keras.layers.Conv2D(256, (3, 3), activation='relu', padding='same') (batch3)\n",
    "    batch3 = keras.layers.BatchNormalization(axis=1)(conv3)\n",
    "    pool3 = keras.layers.MaxPooling2D((2, 2)) (batch3)\n",
    "    \n",
    "    conv4 = keras.layers.Conv2D(512, (3, 3), activation='relu', padding='same') (pool3)\n",
    "    batch4 = keras.layers.BatchNormalization(axis=1)(conv4)\n",
    "    conv4 = keras.layers.Conv2D(512, (3, 3), activation='relu', padding='same') (batch4)\n",
    "    batch4 = keras.layers.BatchNormalization(axis=1)(conv4)\n",
    "    pool4 = keras.layers.MaxPooling2D(pool_size=(2, 2)) (batch4)\n",
    "    \n",
    "    conv5 = keras.layers.Conv2D(1024, (3, 3), activation='relu', padding='same') (pool4)\n",
    "    batch5 = keras.layers.BatchNormalization(axis=1)(conv5)\n",
    "    conv5 = keras.layers.Conv2D(1024, (3, 3), activation='relu', padding='same') (batch5)\n",
    "    batch5 = keras.layers.BatchNormalization(axis=1)(conv5)\n",
    "    \n",
    "    up6 = keras.layers.Conv2DTranspose(512, (2, 2), strides=(2, 2), padding='same') (batch5)\n",
    "    up6 = keras.layers.concatenate([up6, conv4], axis=1)\n",
    "    conv6 = keras.layers.Conv2D(512, (3, 3), activation='relu', padding='same') (up6)\n",
    "    batch6 = keras.layers.BatchNormalization(axis=1)(conv6)\n",
    "    conv6 = keras.layers.Conv2D(512, (3, 3), activation='relu', padding='same') (batch6)\n",
    "    batch6 = keras.layers.BatchNormalization(axis=1)(conv6)\n",
    "    \n",
    "    up7 = keras.layers.Conv2DTranspose(256, (2, 2), strides=(2, 2), padding='same') (batch6)\n",
    "    up7 = keras.layers.concatenate([up7, conv3], axis=1)\n",
    "    conv7 =keras.layers. Conv2D(256, (3, 3), activation='relu', padding='same') (up7)\n",
    "    batch7 = keras.layers.BatchNormalization(axis=1)(conv7)\n",
    "    conv7 = keras.layers.Conv2D(256, (3, 3), activation='relu', padding='same') (batch7)\n",
    "    batch7 = keras.layers.BatchNormalization(axis=1)(conv7)\n",
    "    \n",
    "    up8 = keras.layers.Conv2DTranspose(128, (2, 2), strides=(2, 2), padding='same') (batch7)\n",
    "    up8 = keras.layers.concatenate([up8, conv2], axis=1)\n",
    "    conv8 = keras.layers.Conv2D(128, (3, 3), activation='relu', padding='same') (up8)\n",
    "    batch8 = keras.layers.BatchNormalization(axis=1)(conv8)\n",
    "    conv8 = keras.layers.Conv2D(128, (3, 3), activation='relu', padding='same') (batch8)\n",
    "    batch8 = keras.layers.BatchNormalization(axis=1)(conv8)\n",
    "    \n",
    "    up9 = keras.layers.Conv2DTranspose(64, (2, 2), strides=(2, 2), padding='same') (batch8)\n",
    "    up9 = keras.layers.concatenate([up9, conv1], axis=1)\n",
    "    conv9 = keras.layers.Conv2D(64, (3, 3), activation='relu', padding='same') (up9)\n",
    "    batch9 = keras.layers.BatchNormalization(axis=1)(conv9)\n",
    "    conv9 = keras.layers.Conv2D(64, (3, 3), activation='relu', padding='same') (batch9)\n",
    "    batch9 = keras.layers.BatchNormalization(axis=1)(conv9)\n",
    "\n",
    "    conv10 = keras.layers.Conv2D(1, (1, 1), activation='sigmoid')(batch9) # sigmoid crunching number [0,1] for predicted probability of segment\n",
    "                                                                          # close to 1 means tumor\n",
    "    model = keras.models.Model(inputs=[inputs], outputs=[conv10])\n",
    "\n",
    "    model.compile(optimizer=keras.optimizers.Adam(lr=1e-6), loss=dice_coef_loss, metrics=[dice_coef])\n",
    "\n",
    "    return model"
   ]
  },
  {
   "cell_type": "code",
   "execution_count": 12,
   "metadata": {},
   "outputs": [
    {
     "name": "stderr",
     "output_type": "stream",
     "text": [
      "/home/poudelas/anaconda3/envs/auto/lib/python3.6/site-packages/keras_applications/imagenet_utils.py:272: UserWarning: This model usually expects 1 or 3 input channels. However, it was passed an input_shape with 224 input channels.\n",
      "  str(input_shape[0]) + ' input channels.')\n"
     ]
    },
    {
     "ename": "ValueError",
     "evalue": "Input size must be at least 32x32; got `input_shape=(224, 224, 2)`",
     "output_type": "error",
     "traceback": [
      "\u001b[0;31m---------------------------------------------------------------------------\u001b[0m",
      "\u001b[0;31mValueError\u001b[0m                                Traceback (most recent call last)",
      "\u001b[0;32m<ipython-input-12-17288afcc53c>\u001b[0m in \u001b[0;36m<module>\u001b[0;34m()\u001b[0m\n\u001b[1;32m      3\u001b[0m \u001b[0;32mfrom\u001b[0m \u001b[0mkeras\u001b[0m\u001b[0;34m.\u001b[0m\u001b[0mlayers\u001b[0m\u001b[0;34m.\u001b[0m\u001b[0mconvolutional\u001b[0m \u001b[0;32mimport\u001b[0m \u001b[0mConv2D\u001b[0m\u001b[0;34m\u001b[0m\u001b[0m\n\u001b[1;32m      4\u001b[0m \u001b[0;32mfrom\u001b[0m \u001b[0mkeras\u001b[0m\u001b[0;34m.\u001b[0m\u001b[0mlayers\u001b[0m \u001b[0;32mimport\u001b[0m \u001b[0mLeakyReLU\u001b[0m\u001b[0;34m,\u001b[0m \u001b[0mAdd\u001b[0m\u001b[0;34m,\u001b[0m \u001b[0mInput\u001b[0m\u001b[0;34m,\u001b[0m\u001b[0mMaxPool2D\u001b[0m\u001b[0;34m,\u001b[0m\u001b[0mUpSampling2D\u001b[0m\u001b[0;34m,\u001b[0m\u001b[0mconcatenate\u001b[0m\u001b[0;34m,\u001b[0m\u001b[0mConv2DTranspose\u001b[0m\u001b[0;34m,\u001b[0m\u001b[0mBatchNormalization\u001b[0m\u001b[0;34m,\u001b[0m\u001b[0mDropout\u001b[0m\u001b[0;34m\u001b[0m\u001b[0m\n\u001b[0;32m----> 5\u001b[0;31m \u001b[0mbase_model\u001b[0m \u001b[0;34m=\u001b[0m \u001b[0mefn\u001b[0m\u001b[0;34m.\u001b[0m\u001b[0mEfficientNetB0\u001b[0m\u001b[0;34m(\u001b[0m\u001b[0mweights\u001b[0m\u001b[0;34m=\u001b[0m\u001b[0;32mNone\u001b[0m\u001b[0;34m,\u001b[0m\u001b[0minclude_top\u001b[0m\u001b[0;34m=\u001b[0m\u001b[0;32mFalse\u001b[0m\u001b[0;34m,\u001b[0m\u001b[0minput_shape\u001b[0m\u001b[0;34m=\u001b[0m\u001b[0;34m(\u001b[0m\u001b[0;36m224\u001b[0m\u001b[0;34m,\u001b[0m\u001b[0;36m224\u001b[0m\u001b[0;34m,\u001b[0m\u001b[0;36m2\u001b[0m\u001b[0;34m)\u001b[0m\u001b[0;34m)\u001b[0m\u001b[0;34m\u001b[0m\u001b[0m\n\u001b[0m\u001b[1;32m      6\u001b[0m \u001b[0;34m\u001b[0m\u001b[0m\n\u001b[1;32m      7\u001b[0m \u001b[0;34m\u001b[0m\u001b[0m\n",
      "\u001b[0;32m~/PycharmProjects/efficientnet/efficientnet/__init__.py\u001b[0m in \u001b[0;36mwrapper\u001b[0;34m(*args, **kwargs)\u001b[0m\n\u001b[1;32m     42\u001b[0m         \u001b[0mkwargs\u001b[0m\u001b[0;34m[\u001b[0m\u001b[0;34m'models'\u001b[0m\u001b[0;34m]\u001b[0m \u001b[0;34m=\u001b[0m \u001b[0mkeras\u001b[0m\u001b[0;34m.\u001b[0m\u001b[0mmodels\u001b[0m\u001b[0;34m\u001b[0m\u001b[0m\n\u001b[1;32m     43\u001b[0m         \u001b[0mkwargs\u001b[0m\u001b[0;34m[\u001b[0m\u001b[0;34m'utils'\u001b[0m\u001b[0;34m]\u001b[0m \u001b[0;34m=\u001b[0m \u001b[0mkeras\u001b[0m\u001b[0;34m.\u001b[0m\u001b[0mutils\u001b[0m\u001b[0;34m\u001b[0m\u001b[0m\n\u001b[0;32m---> 44\u001b[0;31m         \u001b[0;32mreturn\u001b[0m \u001b[0mfunc\u001b[0m\u001b[0;34m(\u001b[0m\u001b[0;34m*\u001b[0m\u001b[0margs\u001b[0m\u001b[0;34m,\u001b[0m \u001b[0;34m**\u001b[0m\u001b[0mkwargs\u001b[0m\u001b[0;34m)\u001b[0m\u001b[0;34m\u001b[0m\u001b[0m\n\u001b[0m\u001b[1;32m     45\u001b[0m \u001b[0;34m\u001b[0m\u001b[0m\n\u001b[1;32m     46\u001b[0m     \u001b[0;32mreturn\u001b[0m \u001b[0mwrapper\u001b[0m\u001b[0;34m\u001b[0m\u001b[0m\n",
      "\u001b[0;32m~/PycharmProjects/efficientnet/efficientnet/model.py\u001b[0m in \u001b[0;36mEfficientNetB0\u001b[0;34m(include_top, weights, input_tensor, input_shape, pooling, classes, **kwargs)\u001b[0m\n\u001b[1;32m    475\u001b[0m         \u001b[0minput_tensor\u001b[0m\u001b[0;34m=\u001b[0m\u001b[0minput_tensor\u001b[0m\u001b[0;34m,\u001b[0m \u001b[0minput_shape\u001b[0m\u001b[0;34m=\u001b[0m\u001b[0minput_shape\u001b[0m\u001b[0;34m,\u001b[0m\u001b[0;34m\u001b[0m\u001b[0m\n\u001b[1;32m    476\u001b[0m         \u001b[0mpooling\u001b[0m\u001b[0;34m=\u001b[0m\u001b[0mpooling\u001b[0m\u001b[0;34m,\u001b[0m \u001b[0mclasses\u001b[0m\u001b[0;34m=\u001b[0m\u001b[0mclasses\u001b[0m\u001b[0;34m,\u001b[0m\u001b[0;34m\u001b[0m\u001b[0m\n\u001b[0;32m--> 477\u001b[0;31m         \u001b[0;34m**\u001b[0m\u001b[0mkwargs\u001b[0m\u001b[0;34m\u001b[0m\u001b[0m\n\u001b[0m\u001b[1;32m    478\u001b[0m     )\n\u001b[1;32m    479\u001b[0m \u001b[0;34m\u001b[0m\u001b[0m\n",
      "\u001b[0;32m~/PycharmProjects/efficientnet/efficientnet/model.py\u001b[0m in \u001b[0;36mEfficientNet\u001b[0;34m(width_coefficient, depth_coefficient, default_resolution, dropout_rate, drop_connect_rate, depth_divisor, blocks_args, model_name, include_top, weights, input_tensor, input_shape, pooling, classes, **kwargs)\u001b[0m\n\u001b[1;32m    324\u001b[0m                                       \u001b[0mdata_format\u001b[0m\u001b[0;34m=\u001b[0m\u001b[0mbackend\u001b[0m\u001b[0;34m.\u001b[0m\u001b[0mimage_data_format\u001b[0m\u001b[0;34m(\u001b[0m\u001b[0;34m)\u001b[0m\u001b[0;34m,\u001b[0m\u001b[0;34m\u001b[0m\u001b[0m\n\u001b[1;32m    325\u001b[0m                                       \u001b[0mrequire_flatten\u001b[0m\u001b[0;34m=\u001b[0m\u001b[0minclude_top\u001b[0m\u001b[0;34m,\u001b[0m\u001b[0;34m\u001b[0m\u001b[0m\n\u001b[0;32m--> 326\u001b[0;31m                                       weights=weights)\n\u001b[0m\u001b[1;32m    327\u001b[0m \u001b[0;34m\u001b[0m\u001b[0m\n\u001b[1;32m    328\u001b[0m     \u001b[0;32mif\u001b[0m \u001b[0minput_tensor\u001b[0m \u001b[0;32mis\u001b[0m \u001b[0;32mNone\u001b[0m\u001b[0;34m:\u001b[0m\u001b[0;34m\u001b[0m\u001b[0m\n",
      "\u001b[0;32m~/anaconda3/envs/auto/lib/python3.6/site-packages/keras_applications/imagenet_utils.py\u001b[0m in \u001b[0;36m_obtain_input_shape\u001b[0;34m(input_shape, default_size, min_size, data_format, require_flatten, weights)\u001b[0m\n\u001b[1;32m    306\u001b[0m                                      \u001b[0mstr\u001b[0m\u001b[0;34m(\u001b[0m\u001b[0mmin_size\u001b[0m\u001b[0;34m)\u001b[0m \u001b[0;34m+\u001b[0m \u001b[0;34m'x'\u001b[0m \u001b[0;34m+\u001b[0m \u001b[0mstr\u001b[0m\u001b[0;34m(\u001b[0m\u001b[0mmin_size\u001b[0m\u001b[0;34m)\u001b[0m \u001b[0;34m+\u001b[0m\u001b[0;34m\u001b[0m\u001b[0m\n\u001b[1;32m    307\u001b[0m                                      \u001b[0;34m'; got `input_shape='\u001b[0m \u001b[0;34m+\u001b[0m\u001b[0;34m\u001b[0m\u001b[0m\n\u001b[0;32m--> 308\u001b[0;31m                                      str(input_shape) + '`')\n\u001b[0m\u001b[1;32m    309\u001b[0m         \u001b[0;32melse\u001b[0m\u001b[0;34m:\u001b[0m\u001b[0;34m\u001b[0m\u001b[0m\n\u001b[1;32m    310\u001b[0m             \u001b[0;32mif\u001b[0m \u001b[0minput_shape\u001b[0m \u001b[0;32mis\u001b[0m \u001b[0;32mnot\u001b[0m \u001b[0;32mNone\u001b[0m\u001b[0;34m:\u001b[0m\u001b[0;34m\u001b[0m\u001b[0m\n",
      "\u001b[0;31mValueError\u001b[0m: Input size must be at least 32x32; got `input_shape=(224, 224, 2)`"
     ]
    }
   ],
   "source": [
    "# import efficientnet.keras as efn\n",
    "# from keras.models import Model\n",
    "# from keras.layers.convolutional import Conv2D\n",
    "# from keras.layers import LeakyReLU, Add, Input,MaxPool2D,UpSampling2D,concatenate,Conv2DTranspose,BatchNormalization,Dropout\n",
    "# base_model = efn.EfficientNetB0(weights=None,include_top=False,input_shape=(224,224,2))\n",
    "\n",
    "\n",
    "# input_model = base_model.input\n",
    "# start_neurons = 8\n",
    "# dropout_ratio = 0.1\n",
    "\n",
    "# def convolution_block(x, filters, size, strides=(1,1), padding='same', activation=True):\n",
    "#     x = Conv2D(filters, size, strides=strides, padding=padding)(x)\n",
    "#     x = BatchNormalization()(x)\n",
    "#     if activation == True:\n",
    "#         x = LeakyReLU(alpha=0.1)(x)\n",
    "#     return x\n",
    "\n",
    "# def residual_block(blockInput, num_filters=16):\n",
    "#     x = LeakyReLU(alpha=0.1)(blockInput)\n",
    "#     x = BatchNormalization()(x)\n",
    "#     blockInput = BatchNormalization()(blockInput)\n",
    "#     x = convolution_block(x, num_filters, (3,3) )\n",
    "#     x = convolution_block(x, num_filters, (3,3), activation=False)\n",
    "#     x = Add()([x, blockInput])\n",
    "#     return x\n",
    "\n",
    "\n",
    "# conv5 = base_model.get_layer('top_activation').output\n",
    "# conv4 = base_model.get_layer('block6a_expand_activation').output\n",
    "# conv3 = base_model.get_layer('block4a_expand_activation').output\n",
    "# conv2 = base_model.get_layer('block3a_expand_activation').output\n",
    "# conv1 = base_model.get_layer('block2a_expand_activation').output\n",
    "\n",
    "# #Middle 7*7\n",
    "# convm = Conv2D(start_neurons * 32, (3, 3), activation=None, padding=\"same\",name='conv_middle')(conv5)\n",
    "# convm = residual_block(convm,start_neurons * 32)\n",
    "# convm = residual_block(convm,start_neurons * 32)\n",
    "# convm = LeakyReLU(alpha=0.1)(convm) #7*7\n",
    "\n",
    "# #14*14\n",
    "# deconv4 = Conv2DTranspose(start_neurons*16,(3,3),strides=(2,2),padding=\"same\")(convm)\n",
    "# uconv4 = concatenate([deconv4,conv4])\n",
    "# uconv4 = Dropout(dropout_ratio)(uconv4)\n",
    "# uconv4 = Conv2D(start_neurons * 16, (3, 3), activation=None, padding=\"same\")(uconv4)\n",
    "# uconv4 = residual_block(uconv4,start_neurons * 16)\n",
    "# uconv4 = LeakyReLU(alpha=0.1)(uconv4)\n",
    "\n",
    "# #28*28\n",
    "# deconv3 = Conv2DTranspose(start_neurons*8,(3,3),strides=(2,2),padding=\"same\")(uconv4)\n",
    "# uconv3 = concatenate([deconv3,conv3])\n",
    "# uconv3 = Dropout(dropout_ratio)(uconv3)\n",
    "# uconv3 = Conv2D(start_neurons * 8, (3, 3), activation=None, padding=\"same\")(uconv3)\n",
    "# uconv3 = residual_block(uconv3,start_neurons * 8)\n",
    "# uconv3 = LeakyReLU(alpha=0.1)(uconv3)\n",
    "\n",
    "# #56*56\n",
    "# deconv2 = Conv2DTranspose(start_neurons*4,(3,3),strides=(2,2),padding=\"same\")(uconv3)\n",
    "# uconv2 = concatenate([deconv2,conv2])\n",
    "# uconv2 = Dropout(dropout_ratio)(uconv2)\n",
    "# uconv2 = Conv2D(start_neurons * 4, (3, 3), activation=None, padding=\"same\")(uconv2)\n",
    "# uconv2 = residual_block(uconv2,start_neurons * 4)\n",
    "# uconv2 = LeakyReLU(alpha=0.1)(uconv2)\n",
    "\n",
    "# #112*112\n",
    "# deconv1 = Conv2DTranspose(start_neurons*2,(3,3),strides=(2,2),padding=\"same\")(uconv2)\n",
    "# uconv1 = concatenate([deconv1,conv1])\n",
    "# uconv1 = Dropout(dropout_ratio)(uconv1)\n",
    "# uconv1 = Conv2D(start_neurons * 2, (3, 3), activation=None, padding=\"same\")(uconv1)\n",
    "# uconv1 = residual_block(uconv1,start_neurons * 2)\n",
    "# uconv1 = LeakyReLU(alpha=0.1)(uconv1)\n",
    "\n",
    "# #224*224\n",
    "# deconv0 = Conv2DTranspose(start_neurons*1,(3,3),strides=(2,2),padding=\"same\")(uconv1)\n",
    "# uconv0 = Dropout(dropout_ratio)(deconv0)\n",
    "# uconv0 = Conv2D(start_neurons * 1, (3, 3), activation=None, padding=\"same\")(uconv0)\n",
    "# uconv0 = residual_block(uconv0,start_neurons * 1)\n",
    "# uconv0 = LeakyReLU(alpha=0.1)(uconv0)\n",
    "\n",
    "# output_layer = Conv2D(1, (1,1), padding=\"same\", activation=\"sigmoid\")(uconv0)\n",
    "\n",
    "# model = Model(input_model,[output_layer])\n",
    "# print(model.summary())\n"
   ]
  },
  {
   "cell_type": "code",
   "execution_count": 26,
   "metadata": {
    "colab": {},
    "colab_type": "code",
    "id": "rb02PFwWlE3r"
   },
   "outputs": [],
   "source": [
    "model_full = unet_model()"
   ]
  },
  {
   "cell_type": "markdown",
   "metadata": {
    "colab_type": "text",
    "id": "eaBS9fz5P7UT"
   },
   "source": [
    "## Data Generator\n"
   ]
  },
  {
   "cell_type": "code",
   "execution_count": 27,
   "metadata": {
    "colab": {},
    "colab_type": "code",
    "id": "y4-WLGg8QyDt"
   },
   "outputs": [],
   "source": [
    "\"\"\"\n",
    "Utilities for real-time multi-thread data generator\n",
    "\"\"\"\n",
    "\n",
    "import scipy\n",
    "import numpy as np\n",
    "from keras.utils import Sequence, to_categorical\n",
    "\n",
    "from keras.preprocessing.image import ImageDataGenerator\n",
    "\n",
    "class CustomDataGenerator(Sequence):\n",
    "    \n",
    "    def __init__(self, hdf5_file, brain_idx, batch_size=16, mode='train', horizontal_flip=False,\n",
    "                 vertical_flip=False, rotation_range=0, zoom_range=0., shuffle=True):\n",
    "        \"\"\"\n",
    "        Custom data generator based on Keras Sequance class.\n",
    "        This implementation enables multiprocessing and on-the-fly data augmentation \n",
    "        which will speed up training, especially in the task of brain tumor segmentation\n",
    "        that suffers from time-consuming data processing.\n",
    "        \n",
    "        Parameters\n",
    "        ----------\n",
    "        hdf5_file : file.File\n",
    "            An opend hdf5 file that contains all data.\n",
    "        brain_idx : array\n",
    "            The brain indexes corresponing to a specific fold. All of these \n",
    "            brain indexes will be use for training and the ones which are \n",
    "            not in 'brain_idx' will be used for validation\n",
    "        batch_size : int\n",
    "            The number of input/output arrays that will be generated each \n",
    "            time. The default is 16.\n",
    "        view : str\n",
    "            'axial', 'sagittal' or 'coronal'. The generator will extract\n",
    "            2D slices and perform normalization with respect to the chosen view.\n",
    "            The defualt is axial.\n",
    "        mode : str\n",
    "            Prepare the DataGenerator for 'train' or 'validation' phase. \n",
    "            The default is 'train'.\n",
    "        horizontal_flip : bool\n",
    "            Whether to use horizontal flip for data augmentation. The default is False.\n",
    "        vertical_flip : bool\n",
    "            Whether to use vertical flip for data augmentation. The default is False.\n",
    "        rotation_range : float\n",
    "            Random rotation for data augmentation. The default is 0.\n",
    "        zoom_range : float\n",
    "            Random zoom for data augmentation. The default is 0.\n",
    "        shuffle : bool\n",
    "            Whether to shuffle data. The default is True. Note that if mode='validation' \n",
    "            it will not shufflw tha data.\n",
    "\n",
    "        \"\"\"\n",
    "        \n",
    "        self.data_storage    = hdf5_file.root.data\n",
    "        self.truth_storage   = hdf5_file.root.truth   \n",
    "        \n",
    "        total_brains         = self.data_storage.shape[0]\n",
    "        self.brain_idx       = brain_idx\n",
    "        self.batch_size      = batch_size\n",
    "        \n",
    "        '''\n",
    "        if view == 'axial':\n",
    "            self.view_axes = (0, 1, 2, 3)            \n",
    "        elif view == 'sagittal': \n",
    "            self.view_axes = (2, 1, 0, 3)\n",
    "        elif view == 'coronal':\n",
    "            self.view_axes = (1, 2, 0, 3)            \n",
    "        else:\n",
    "            ValueError('unknown input view => {}'.format(view))\n",
    "        '''  \n",
    "        \n",
    "        self.mode            = mode\n",
    "        self.horizontal_flip = horizontal_flip\n",
    "        self.vertical_flip   = vertical_flip\n",
    "        self.rotation_range  = rotation_range       \n",
    "        self.zoom_range      = [1 - zoom_range, 1 + zoom_range]\n",
    "        self.shuffle         = shuffle\n",
    "        self.data_shape      = tuple(np.array(self.data_storage.shape[1:]))\n",
    "        \n",
    "        print('model: {}'.format(mode))\n",
    "        print('Using {} out of {} brains'.format(len(self.brain_idx), total_brains), end=' ')\n",
    "        print('({} out of {} 2D slices)'.format(len(self.brain_idx) * self.data_shape[0], total_brains * self.data_shape[0]))\n",
    "        print('-----'*10)\n",
    "        \n",
    "\n",
    "        self.on_epoch_end()   \n",
    "        \n",
    "    def __len__(self):\n",
    "        return int(np.floor( len(self.indexes) / self.batch_size))\n",
    "    \n",
    "    \n",
    "    def __getitem__(self, index):\n",
    "\n",
    "        # Generate indexes of the batch\n",
    "        idx = self.indexes[index*self.batch_size:(index+1)*self.batch_size]\n",
    "        # Generate data\n",
    "        X_batch, Y_batch = self.data_load_and_preprocess(idx)\n",
    "\n",
    "        return X_batch, Y_batch\n",
    "\n",
    "    def on_epoch_end(self):\n",
    "        \"\"\"\n",
    "        Updates indexes after each epoch\n",
    "        \"\"\"\n",
    "        tmp=[]\n",
    "        for i in self.brain_idx:\n",
    "            for j in range(self.data_shape[0]):\n",
    "                tmp.append((i,j))\n",
    "        self.indexes = tmp\n",
    "            \n",
    "        if self.mode=='train' and self.shuffle:\n",
    "            np.random.shuffle(self.indexes)\n",
    "            \n",
    "            \n",
    "    def data_load_and_preprocess(self, idx):\n",
    "        \"\"\"\n",
    "        Generates data containing batch_size samples\n",
    "        \"\"\"\n",
    "        slice_batch = []\n",
    "        label_batch = []\n",
    "\n",
    "        # Generate data\n",
    "        for i in idx:\n",
    "            brain_number     = i[0]\n",
    "            slice_number     = i[1]\n",
    "            slice_, label_   = self.read_data(brain_number, slice_number)\n",
    "            #slice_           = self.normalize_modalities(slice_)\n",
    "            slice_and_label  = np.concatenate((slice_, label_) , axis=0)\n",
    "            params           = self.get_random_transform()\n",
    "            slice_and_label  = self.apply_transform(slice_and_label, params)\n",
    "            slice_           = slice_and_label[:2]\n",
    "            label_           = slice_and_label[2:]\n",
    "            #label_           = to_categorical(label_, 4) \n",
    "            \n",
    "            slice_batch.append(slice_)\n",
    "            label_batch.append(label_)\n",
    "            \n",
    "        return np.array(slice_batch), np.array(label_batch)\n",
    "    \n",
    "    \n",
    "    \n",
    "    def read_data(self, brain_number, slice_number):\n",
    "        \n",
    "        \"\"\"\n",
    "        Reads data from table with respect to the 'view'\n",
    "        \n",
    "        \"\"\"\n",
    "        \n",
    "        slice_    = self.data_storage[brain_number][slice_number]\n",
    "        label_    = self.truth_storage[brain_number][slice_number]\n",
    "        label_    = np.expand_dims(label_, axis=0)\n",
    "        \n",
    "        return slice_, label_ \n",
    "        \n",
    "    \n",
    "    def normalize_slice(self, slice):\n",
    "        \n",
    "        \"\"\"\n",
    "        Removes 1% of the top and bottom intensities and perform\n",
    "        normalization on the input 2D slice.\n",
    "        \"\"\"\n",
    "        b = np.percentile(slice, 99)\n",
    "        t = np.percentile(slice, 1)\n",
    "        slice = np.clip(slice, t, b)\n",
    "        if np.std(slice)==0:\n",
    "            return slice\n",
    "        else:\n",
    "            slice = (slice - np.mean(slice)) / np.std(slice)\n",
    "            return slice\n",
    "        \n",
    "        \n",
    "    def normalize_modalities(self, Slice): \n",
    "        \n",
    "        \"\"\"\n",
    "        Performs normalization on each modalities of input\n",
    "        \"\"\"\n",
    "\n",
    "        normalized_slices = np.zeros_like(Slice).astype(np.float32)\n",
    "        for slice_ix in range(4):\n",
    "            normalized_slices[..., slice_ix] = self.normalize_slice(Slice[..., slice_ix])\n",
    "    \n",
    "        return normalized_slices  \n",
    "    \n",
    "\n",
    "    def flip_axis(self, x, axis):\n",
    "        \n",
    "        x = np.asarray(x).swapaxes(axis, 0)\n",
    "        x = x[::-1, ...]\n",
    "        x = x.swapaxes(0, axis)\n",
    "        return x\n",
    "    \n",
    "    \n",
    "    def apply_transform(self, x, transform_parameters):\n",
    "        \n",
    "        x = apply_affine_transform(x, transform_parameters.get('theta', 0),\n",
    "                           transform_parameters.get('tx', 0),\n",
    "                           transform_parameters.get('ty', 0),\n",
    "                           transform_parameters.get('shear', 0),\n",
    "                           transform_parameters.get('zx', 1),\n",
    "                           transform_parameters.get('zy', 1),\n",
    "                           row_axis=0,\n",
    "                           col_axis=1,\n",
    "                           channel_axis=0)\n",
    "        if transform_parameters.get('flip_horizontal', False):\n",
    "            x = self.flip_axis(x, 2)\n",
    "        if transform_parameters.get('flip_vertical', False):\n",
    "            x = self.flip_axis(x, 1)            \n",
    "        return x\n",
    "        \n",
    "    def get_random_transform(self):\n",
    "    \n",
    "        if self.rotation_range:\n",
    "            theta = np.random.uniform(-self.rotation_range,self.rotation_range)    \n",
    "        else:\n",
    "            theta = 0            \n",
    " \n",
    "        if self.zoom_range[0] == 1 and self.zoom_range[1] == 1:\n",
    "            zx, zy = 1, 1\n",
    "        else:\n",
    "            zx, zy = np.random.uniform(self.zoom_range[0],self.zoom_range[1], 2)\n",
    "            \n",
    "        flip_horizontal = (np.random.random() < 0.5) * self.horizontal_flip    \n",
    "        flip_vertical   = (np.random.random() < 0.5) * self.vertical_flip\n",
    "        \n",
    "        transform_parameters = {'flip_horizontal': flip_horizontal,\n",
    "                                'flip_vertical':flip_vertical,\n",
    "                                'theta': theta, \n",
    "                                'zx': zx, \n",
    "                                'zy': zy}\n",
    "    \n",
    "        return transform_parameters        \n",
    "        \n",
    "\"\"\"\n",
    "The two following functions are from ImageDataGenerator class of keras.\n",
    "https://github.com/keras-team/keras/blob/master/keras/preprocessing/image.py\n",
    "\"\"\"\n",
    "    \n",
    "def apply_affine_transform(x, theta=0, tx=0, ty=0, shear=0, zx=1, zy=1,\n",
    "                           row_axis=0, col_axis=1, channel_axis=2,\n",
    "                           fill_mode='nearest', cval=0.):\n",
    "    \"\"\"Applies an affine transformation specified by the parameters given.\n",
    "\n",
    "    # Arguments\n",
    "        x: 2D numpy array, single image.\n",
    "        theta: Rotation angle in degrees.\n",
    "        tx: Width shift.\n",
    "        ty: Heigh shift.\n",
    "        shear: Shear angle in degrees.\n",
    "        zx: Zoom in x direction.\n",
    "        zy: Zoom in y direction\n",
    "        row_axis: Index of axis for rows in the input image.\n",
    "        col_axis: Index of axis for columns in the input image.\n",
    "        channel_axis: Index of axis for channels in the input image.\n",
    "        fill_mode: Points outside the boundaries of the input\n",
    "            are filled according to the given mode\n",
    "            (one of `{'constant', 'nearest', 'reflect', 'wrap'}`).\n",
    "        cval: Value used for points outside the boundaries\n",
    "            of the input if `mode='constant'`.\n",
    "\n",
    "    # Returns\n",
    "        The transformed version of the input.\n",
    "    \"\"\"\n",
    "    transform_matrix = None\n",
    "    if theta != 0:\n",
    "        theta = np.deg2rad(theta)\n",
    "        rotation_matrix = np.array([[np.cos(theta), -np.sin(theta), 0],\n",
    "                                    [np.sin(theta), np.cos(theta), 0],\n",
    "                                    [0, 0, 1]])\n",
    "        transform_matrix = rotation_matrix\n",
    "\n",
    "    if tx != 0 or ty != 0:\n",
    "        shift_matrix = np.array([[1, 0, tx],\n",
    "                                 [0, 1, ty],\n",
    "                                 [0, 0, 1]])\n",
    "        if transform_matrix is None:\n",
    "            transform_matrix = shift_matrix\n",
    "        else:\n",
    "            transform_matrix = np.dot(transform_matrix, shift_matrix)\n",
    "\n",
    "    if shear != 0:\n",
    "        shear = np.deg2rad(shear)\n",
    "        shear_matrix = np.array([[1, -np.sin(shear), 0],\n",
    "                                 [0, np.cos(shear), 0],\n",
    "                                 [0, 0, 1]])\n",
    "        if transform_matrix is None:\n",
    "            transform_matrix = shear_matrix\n",
    "        else:\n",
    "            transform_matrix = np.dot(transform_matrix, shear_matrix)\n",
    "\n",
    "    if zx != 1 or zy != 1:\n",
    "        zoom_matrix = np.array([[zx, 0, 0],\n",
    "                                [0, zy, 0],\n",
    "                                [0, 0, 1]])\n",
    "        if transform_matrix is None:\n",
    "            transform_matrix = zoom_matrix\n",
    "        else:\n",
    "            transform_matrix = np.dot(transform_matrix, zoom_matrix)\n",
    "\n",
    "    if transform_matrix is not None:\n",
    "        h, w = x.shape[row_axis], x.shape[col_axis]\n",
    "        transform_matrix = transform_matrix_offset_center(\n",
    "            transform_matrix, h, w)\n",
    "        x = np.rollaxis(x, channel_axis, 0)\n",
    "        final_affine_matrix = transform_matrix[:2, :2]\n",
    "        final_offset = transform_matrix[:2, 2]\n",
    "\n",
    "        channel_images = [scipy.ndimage.interpolation.affine_transform(\n",
    "            x_channel,\n",
    "            final_affine_matrix,\n",
    "            final_offset,\n",
    "            order=1,\n",
    "            mode=fill_mode,\n",
    "            cval=cval) for x_channel in x]\n",
    "        x = np.stack(channel_images, axis=0)\n",
    "        x = np.rollaxis(x, 0, channel_axis + 1)\n",
    "    return x\n",
    "\n",
    "def transform_matrix_offset_center(matrix, x, y):\n",
    "    o_x = float(x) / 2 + 0.5\n",
    "    o_y = float(y) / 2 + 0.5\n",
    "    offset_matrix = np.array([[1, 0, o_x], [0, 1, o_y], [0, 0, 1]])\n",
    "    reset_matrix = np.array([[1, 0, -o_x], [0, 1, -o_y], [0, 0, 1]])\n",
    "    transform_matrix = np.dot(np.dot(offset_matrix, matrix), reset_matrix)\n",
    "    return transform_matrix"
   ]
  },
  {
   "cell_type": "code",
   "execution_count": 28,
   "metadata": {},
   "outputs": [],
   "source": [
    "from glob import glob\n",
    "\n",
    "def imgDataGen_full(data_dir, batch_size = 20):\n",
    "    i = 0\n",
    "    slc = 0  \n",
    "    all_brain_dirs = glob(data_dir+'/*') # * means everything in that directory\n",
    "    i_max = len(all_brain_dirs)-1\n",
    "    #takes care of iterating the entire batch\n",
    "    brain_channels = np.load(glob(os.path.join(all_brain_dirs[i],'*_channels*'))[0])\n",
    "    Seg_full       = np.load(glob(os.path.join(all_brain_dirs[i],'*_label*'))[0])\n",
    "    while True:    \n",
    "        if slc+batch_size>154:\n",
    "            i += 1\n",
    "            slc=0\n",
    "            if i>i_max:\n",
    "                i=0\n",
    "            brain_channels = np.load(glob(os.path.join(all_brain_dirs[i],'*_channels*'))[0])\n",
    "            Seg_full       = np.load(glob(os.path.join(all_brain_dirs[i],'*_label*'))[0])\n",
    "        \n",
    "        #Pulling in the data and calling read_data function to numpy arrays                               \n",
    "        #the convolutional layer expects data in this format\n",
    "        #(batch_size, channels, img_height, img_width)\n",
    "        img_train = np.zeros((batch_size,2,240,240),np.float32) #creates an array in required dimensions\n",
    "        img_seg   = np.zeros((batch_size,1,240,240),np.float32) #img segment is ground truth/mask/label, creates an array in required dimensions\n",
    "\n",
    "        for m in range(batch_size):                           #the training image includes pixels from Img_Flair and Img_T2\n",
    "            img_train[m,:,:,:] = brain_channels[slc+m:slc+m+1,:,:,:] #the first channel of the image has data from Img_Flair, 0 corresponds to first channel\n",
    "            img_seg [m,0,:,:]  = Seg_full[slc+m:slc+m+1,:,:]  #now preparing training label, Seg_full contains whole tumor mask details, single channel 0\n",
    "        slc += batch_size                                     #takes care of iterating entire batch\n",
    "        yield [img_train, img_seg]                            #returns image and ground truth for this batch"
   ]
  },
  {
   "cell_type": "code",
   "execution_count": 29,
   "metadata": {},
   "outputs": [
    {
     "name": "stdout",
     "output_type": "stream",
     "text": [
      "(20, 2, 240, 240)\n",
      "(20, 1, 240, 240)\n"
     ]
    }
   ],
   "source": [
    "# testing generator \n",
    "\n",
    "val_dir = '/home/poudelas/PycharmProjects/efficientnet/val_save/'\n",
    "val_gen = imgDataGen_full(val_dir, batch_size = 20)\n",
    "x_batch, y_batch = next(val_gen)\n",
    "print(x_batch.shape)\n",
    "print(y_batch.shape)\n"
   ]
  },
  {
   "cell_type": "markdown",
   "metadata": {
    "colab_type": "text",
    "id": "b-sifTU2yHN0"
   },
   "source": [
    "## Train and Evaluate the model on images"
   ]
  },
  {
   "cell_type": "markdown",
   "metadata": {
    "colab_type": "text",
    "id": "1fXL2-QDy6d3"
   },
   "source": [
    "Train the model."
   ]
  },
  {
   "cell_type": "code",
   "execution_count": 30,
   "metadata": {},
   "outputs": [],
   "source": [
    "hdf5_file.close()"
   ]
  },
  {
   "cell_type": "code",
   "execution_count": 31,
   "metadata": {},
   "outputs": [],
   "source": [
    "table_dir1 = '/home/poudelas/Documents/TF.Keras-Commonly-used-models-master/常用分割模型/Unet_family/table_data.hdf5'\n",
    "hdf5_file1 = tables.open_file(table_dir1, mode='r+')\n",
    "\n",
    "#table_dir2 = './table_data2.hdf5'\n",
    "#hdf5_file2 = tables.open_file(table_dir2, mode='r+')"
   ]
  },
  {
   "cell_type": "code",
   "execution_count": null,
   "metadata": {
    "colab": {},
    "colab_type": "code",
    "id": "QxWQq0l5WsFg"
   },
   "outputs": [
    {
     "name": "stdout",
     "output_type": "stream",
     "text": [
      "model: train\n",
      "Using 207 out of 259 brains (32085 out of 40145 2D slices)\n",
      "--------------------------------------------------\n",
      "Epoch 1/10\n",
      "1604/1604 [==============================] - 1516s 945ms/step - loss: 0.9259 - dice_coef: 0.0741 - val_loss: 0.9332 - val_dice_coef: 0.0668\n",
      "Epoch 2/10\n",
      "1004/1604 [=================>............] - ETA: 8:32 - loss: 0.9032 - dice_coef: 0.0968"
     ]
    }
   ],
   "source": [
    "n_epochs = 10\n",
    "\n",
    "train_idx = np.load('/home/poudelas/Documents/TF.Keras-Commonly-used-models-master/常用分割模型/Unet_family/train_idx.npy') # 207 brain indexes for training\n",
    "#val_idx   = np.load('val_idx.npy') # 27 brain indexes for validation\n",
    "#test_idx  = np.load('test_idx.npy') # 27 brain indexes for testing\n",
    "val_dir = '/home/poudelas/PycharmProjects/efficientnet/val_save/'\n",
    "test_dir = '/home/poudelas/PycharmProjects/efficientnet/test_np/'\n",
    "\n",
    "train_gen = CustomDataGenerator(hdf5_file1, train_idx, batch_size=20, mode='train', \n",
    "                                horizontal_flip=True, vertical_flip=True, shuffle=True)\n",
    "\n",
    "val_gen =  imgDataGen_full(val_dir, batch_size = 20)\n",
    "test_gen =  imgDataGen_full(test_dir, batch_size = 20)\n",
    "# there is no need to set steps_per_epoch, When we use a sequence generator, len(generator) will be considered as steps.\n",
    "#history = model_full.fit_generator(train_gen, epochs=n_epochs, use_multiprocessing=False)\n",
    "\n",
    "# validation_steps = #brains * #slices / batch_size\n",
    "history = model_full.fit_generator(train_gen, epochs=n_epochs, use_multiprocessing=False, validation_data = val_gen, validation_steps=int((27 * 155)/10))\n"
   ]
  },
  {
   "cell_type": "code",
   "execution_count": 18,
   "metadata": {},
   "outputs": [],
   "source": [
    "model_full.save('mark1.h5')"
   ]
  },
  {
   "cell_type": "markdown",
   "metadata": {
    "colab_type": "text",
    "id": "Il7axYghuu9Z"
   },
   "source": [
    "Plot training & validation accuracy"
   ]
  },
  {
   "cell_type": "code",
   "execution_count": 19,
   "metadata": {
    "colab": {},
    "colab_type": "code",
    "id": "RwPkakv1uu9a"
   },
   "outputs": [
    {
     "data": {
      "image/png": "[encoded data removed]",
      "text/plain": [
       "<Figure size 432x288 with 1 Axes>"
      ]
     },
     "metadata": {
      "needs_background": "light"
     },
     "output_type": "display_data"
    }
   ],
   "source": [
    "# Plot training & validation learning curves\n",
    "plt.plot(history.history['dice_coef'])\n",
    "plt.plot(history.history['val_dice_coef'])\n",
    "plt.title('Model Dice Score')\n",
    "plt.ylabel('Dice Score')\n",
    "plt.xlabel('Epoch')\n",
    "plt.legend(['Train', 'Validation'], loc='upper left')\n",
    "plt.show()"
   ]
  },
  {
   "cell_type": "markdown",
   "metadata": {
    "colab_type": "text",
    "id": "0SOyHKYfEy3B"
   },
   "source": [
    "Mean Dice During Training"
   ]
  },
  {
   "cell_type": "code",
   "execution_count": 20,
   "metadata": {
    "colab": {},
    "colab_type": "code",
    "id": "ckJudtOfxG6A"
   },
   "outputs": [
    {
     "data": {
      "text/plain": [
       "0.7406793"
      ]
     },
     "execution_count": 20,
     "metadata": {},
     "output_type": "execute_result"
    }
   ],
   "source": [
    "np.mean(history.history['dice_coef'])"
   ]
  },
  {
   "cell_type": "markdown",
   "metadata": {
    "colab_type": "text",
    "id": "n8GafHS0E4oX"
   },
   "source": [
    "Standard Deviation During Training"
   ]
  },
  {
   "cell_type": "code",
   "execution_count": 21,
   "metadata": {
    "colab": {},
    "colab_type": "code",
    "id": "oIKnG0FHE26A"
   },
   "outputs": [
    {
     "data": {
      "text/plain": [
       "0.062456872"
      ]
     },
     "execution_count": 21,
     "metadata": {},
     "output_type": "execute_result"
    }
   ],
   "source": [
    "np.std(history.history['dice_coef'])"
   ]
  },
  {
   "cell_type": "markdown",
   "metadata": {
    "colab_type": "text",
    "id": "jUa9K2_2zo9g"
   },
   "source": [
    "Evaluate model on test data"
   ]
  },
  {
   "cell_type": "code",
   "execution_count": 39,
   "metadata": {
    "colab": {},
    "colab_type": "code",
    "id": "ERN9YXmEzu7v"
   },
   "outputs": [],
   "source": [
    "score = model_full.evaluate_generator(test_gen, steps=1, use_multiprocessing=False)"
   ]
  },
  {
   "cell_type": "code",
   "execution_count": 40,
   "metadata": {
    "colab": {},
    "colab_type": "code",
    "id": "Su88aabbuu9n"
   },
   "outputs": [
    {
     "name": "stdout",
     "output_type": "stream",
     "text": [
      "Testing dice loss: 0.022849619388580322\n",
      "Testing dice score: 0.9771503806114197\n"
     ]
    }
   ],
   "source": [
    "print('Testing dice loss:', score[0])\n",
    "print('Testing dice score:', score[1])"
   ]
  },
  {
   "cell_type": "markdown",
   "metadata": {
    "colab_type": "text",
    "id": "YyZAVmA3FCEP"
   },
   "source": [
    "Confusion Matrix For Testing"
   ]
  },
  {
   "cell_type": "code",
   "execution_count": null,
   "metadata": {
    "colab": {},
    "colab_type": "code",
    "id": "b3wlBWlyFN0m"
   },
   "outputs": [],
   "source": []
  },
  {
   "cell_type": "markdown",
   "metadata": {
    "colab_type": "text",
    "id": "kqohufmroLaI"
   },
   "source": [
    "## Predict segmentation on few sample images"
   ]
  },
  {
   "cell_type": "code",
   "execution_count": null,
   "metadata": {
    "colab": {},
    "colab_type": "code",
    "id": "YPl-IWgsljso"
   },
   "outputs": [],
   "source": [
    "#using Flair and T2 as input for full tumor segmentation\n",
    "x = np.zeros((1,2,240,240),np.float32)\n",
    "x[:,:1,:,:] = Img_Flair[80:81,:,:,:]\n",
    "x[:,1:,:,:] = Img_T2[80:81,:,:,:] \n",
    "\n",
    "pred_full = model_full.predict(x)"
   ]
  },
  {
   "cell_type": "code",
   "execution_count": null,
   "metadata": {
    "colab": {},
    "colab_type": "code",
    "id": "q9s3RJzCncVk"
   },
   "outputs": [],
   "source": [
    "slice_no = 80\n",
    "plt.figure(figsize=(15,10))\n",
    "\n",
    "plt.subplot(141)\n",
    "plt.title('T2')\n",
    "plt.axis('off')\n",
    "plt.imshow(Img_T2[slice_no, 0, :, :],cmap='gray')\n",
    "    \n",
    "plt.subplot(142)\n",
    "plt.title('Flair')\n",
    "plt.axis('off')\n",
    "plt.imshow(Img_Flair[slice_no, 0, :, :],cmap='gray')\n",
    "\n",
    "plt.subplot(143)\n",
    "plt.title('Ground Truth(full)')\n",
    "plt.axis('off')\n",
    "plt.imshow(Seg_full[slice_no, 0, :, :],cmap='gray')\n",
    "\n",
    "plt.subplot(144)\n",
    "plt.title('prediction(full)')\n",
    "plt.axis('off')\n",
    "plt.imshow(pred_full[0, 0, :, :],cmap='gray')\n",
    "\n",
    "plt.show()"
   ]
  }
 ],
 "metadata": {
  "accelerator": "GPU",
  "colab": {
   "collapsed_sections": [
    "CqMyXJ3JTdEK",
    "_fRq2q_lMAbU",
    "JkxWaejoYazV",
    "G73ur1tVerBO",
    "eaBS9fz5P7UT",
    "b-sifTU2yHN0",
    "kqohufmroLaI"
   ],
   "name": "Part1.ipynb",
   "provenance": []
  },
  "kernelspec": {
   "display_name": "Python 3",
   "language": "python",
   "name": "python3"
  },
  "language_info": {
   "codemirror_mode": {
    "name": "ipython",
    "version": 3
   },
   "file_extension": ".py",
   "mimetype": "text/x-python",
   "name": "python",
   "nbconvert_exporter": "python",
   "pygments_lexer": "ipython3",
   "version": "3.6.0"
  }
 },
 "nbformat": 4,
 "nbformat_minor": 4
}
